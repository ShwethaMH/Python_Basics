{
 "cells": [
  {
   "cell_type": "code",
   "execution_count": null,
   "metadata": {},
   "outputs": [],
   "source": [
    "# Python Syntax\n",
    "\n",
    "print(\"Hello, World!\")"
   ]
  },
  {
   "cell_type": "code",
   "execution_count": null,
   "metadata": {},
   "outputs": [],
   "source": []
  },
  {
   "cell_type": "code",
   "execution_count": null,
   "metadata": {},
   "outputs": [],
   "source": [
    "# Python Indentation:\n",
    "\n",
    "# Indentation refers to the spaces at the beginning of a code line.\n",
    "  # Python uses indentation to indicate a block of code. Python gives you an error if you skip\n",
    "  # indentation. The number of spaces is up to you, but it has to be at least one\n",
    "\n",
    "if 5 > 2:\n",
    "  print(\"Five is greater than two!\")"
   ]
  },
  {
   "cell_type": "code",
   "execution_count": null,
   "metadata": {},
   "outputs": [],
   "source": []
  },
  {
   "cell_type": "code",
   "execution_count": null,
   "metadata": {},
   "outputs": [],
   "source": [
    "# Python Comments:\n",
    "\n",
    "# comments can be used to explain python code.\n",
    "# Comments are used to make the code more readable.\n",
    "# Comments can be used to prevent execution when testing code.\n",
    "# Comment starts with “#”, and python will ignore them.\n",
    "# Comments can be placed at the end of a line, and python will ignore the rest of the line.\n",
    "# Multiline string (triple quotes) can be used as long as the string literals are not assigned to\n",
    "  # a variable.\n",
    "\n",
    "print(\"Hello, World!\")"
   ]
  }
 ],
 "metadata": {
  "kernelspec": {
   "display_name": "Python 3",
   "language": "python",
   "name": "python3"
  },
  "language_info": {
   "codemirror_mode": {
    "name": "ipython",
    "version": 3
   },
   "file_extension": ".py",
   "mimetype": "text/x-python",
   "name": "python",
   "nbconvert_exporter": "python",
   "pygments_lexer": "ipython3",
   "version": "3.8.8"
  }
 },
 "nbformat": 4,
 "nbformat_minor": 4
}
