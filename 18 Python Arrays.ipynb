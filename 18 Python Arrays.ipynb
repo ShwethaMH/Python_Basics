{
 "cells": [
  {
   "cell_type": "code",
   "execution_count": null,
   "metadata": {},
   "outputs": [],
   "source": [
    "# Python Arrays\n",
    "\n",
    "# Arrays are used to store multiple values in one single variable:\n",
    "\n",
    "# Note: Python does not have built-in support for Arrays, but Python Lists can be used instead."
   ]
  },
  {
   "cell_type": "code",
   "execution_count": 1,
   "metadata": {},
   "outputs": [
    {
     "name": "stdout",
     "output_type": "stream",
     "text": [
      "['Range Rover', 'Jeep', 'Ford', 'BMW']\n"
     ]
    }
   ],
   "source": [
    "# Create an array containing car names:\n",
    "\n",
    "cars = [\"Range Rover\", \"Jeep\", \"Ford\", \"BMW\"]\n",
    "\n",
    "print(cars)"
   ]
  },
  {
   "cell_type": "code",
   "execution_count": null,
   "metadata": {},
   "outputs": [],
   "source": [
    "# What is an Array?\n",
    "\n",
    "# An array is a special variable, which can hold more than one value at a time.\n",
    "\n",
    "# If you have a list of items (a list of car names, for example), storing the cars in single \n",
    "   # variables could look like this:\n",
    "\n",
    "# car1 = \"Ford\"\n",
    "# car2 = \"Volvo\"\n",
    "# car3 = \"BMW\"\n",
    "\n",
    "# However, what if you want to loop through the cars and find a specific one? And what if you\n",
    "   # had not 3 cars, but 300?\n",
    "\n",
    "# The solution is an array!\n",
    "\n",
    "# An array can hold many values under a single name, and you can access the values by referring\n",
    "   # to an index number.\n"
   ]
  },
  {
   "cell_type": "code",
   "execution_count": null,
   "metadata": {},
   "outputs": [],
   "source": [
    "# Access the Elements of an Array\n",
    "\n",
    "# You refer to an array element by referring to the index number."
   ]
  },
  {
   "cell_type": "code",
   "execution_count": 2,
   "metadata": {},
   "outputs": [
    {
     "name": "stdout",
     "output_type": "stream",
     "text": [
      "Range Rover\n"
     ]
    }
   ],
   "source": [
    "# Get the value of the first array item:\n",
    "\n",
    "cars = [\"Range Rover\", \"Jeep\", \"Ford\", \"BMW\"]\n",
    "x = cars[0]\n",
    "print(x)"
   ]
  },
  {
   "cell_type": "code",
   "execution_count": 3,
   "metadata": {},
   "outputs": [
    {
     "name": "stdout",
     "output_type": "stream",
     "text": [
      "['Range Rover', 'Jeep', 'Ford', 'Volvo']\n"
     ]
    }
   ],
   "source": [
    "# Modify the value of the first array item:\n",
    "\n",
    "cars = [\"Range Rover\", \"Jeep\", \"Ford\", \"BMW\"]\n",
    "cars[3] = \"Volvo\"\n",
    "print(cars)"
   ]
  },
  {
   "cell_type": "code",
   "execution_count": 5,
   "metadata": {},
   "outputs": [
    {
     "name": "stdout",
     "output_type": "stream",
     "text": [
      "4\n"
     ]
    }
   ],
   "source": [
    "# The Length of an Array\n",
    "\n",
    "# Use the len() method to return the length of an array (the number of elements in an array).\n",
    "\n",
    "cars = [\"Range Rover\", \"Jeep\", \"Ford\", \"BMW\"]\n",
    "x = len(cars)\n",
    "print(x)\n",
    "\n",
    "# Note: The length of an array is always one more than the highest array index"
   ]
  },
  {
   "cell_type": "code",
   "execution_count": 6,
   "metadata": {},
   "outputs": [
    {
     "name": "stdout",
     "output_type": "stream",
     "text": [
      "Range Rover\n",
      "Jeep\n",
      "Ford\n",
      "BMW\n"
     ]
    }
   ],
   "source": [
    "# Looping Array Elements\n",
    "\n",
    "# You can use the \"for in\" loop to loop through all the elements of an array.\n",
    "\n",
    "# Print each item in the cars array:\n",
    "\n",
    "cars = [\"Range Rover\", \"Jeep\", \"Ford\", \"BMW\"]\n",
    "for x in cars:\n",
    "    print(x)"
   ]
  },
  {
   "cell_type": "code",
   "execution_count": 7,
   "metadata": {},
   "outputs": [
    {
     "name": "stdout",
     "output_type": "stream",
     "text": [
      "['Range Rover', 'Jeep', 'Ford', 'BMW', 'Volvo']\n"
     ]
    }
   ],
   "source": [
    "# Adding Array Elements\n",
    "\n",
    "# You can use the \"append()\" method to add an element to an array.\n",
    "\n",
    "cars = [\"Range Rover\", \"Jeep\", \"Ford\", \"BMW\"]\n",
    "cars.append(\"Volvo\")\n",
    "print(cars)"
   ]
  },
  {
   "cell_type": "code",
   "execution_count": 9,
   "metadata": {},
   "outputs": [
    {
     "name": "stdout",
     "output_type": "stream",
     "text": [
      "['Range Rover', 'Jeep', 'Ford']\n"
     ]
    }
   ],
   "source": [
    "# Removing Array Elements\n",
    "\n",
    "# You can use the \"pop()\" method to remove an element from the array.\n",
    "\n",
    "cars = [\"Range Rover\", \"Jeep\", \"Ford\", \"BMW\"]\n",
    "cars.pop(3)\n",
    "print(cars)"
   ]
  },
  {
   "cell_type": "code",
   "execution_count": 10,
   "metadata": {},
   "outputs": [
    {
     "name": "stdout",
     "output_type": "stream",
     "text": [
      "['Range Rover', 'Jeep', 'Ford']\n"
     ]
    }
   ],
   "source": [
    "# You can also use the \"remove()\" method to remove an element from the array.\n",
    "\n",
    "cars = [\"Range Rover\", \"Jeep\", \"Ford\", \"BMW\"]\n",
    "cars.remove(\"BMW\")\n",
    "print(cars)"
   ]
  },
  {
   "cell_type": "code",
   "execution_count": null,
   "metadata": {},
   "outputs": [],
   "source": [
    "# Array Methods\n",
    "\n",
    "# Python has a set of built-in methods that you can use on lists/arrays.\n",
    "\n",
    "# Method            Description\n",
    "\n",
    "# append()   Adds an element at the end of the list\n",
    "# clear()    Removes all the elements from the list\n",
    "# copy()     Returns a copy of the list\n",
    "# count()    Returns the number of elements with the specified value\n",
    "# extend()   Add the elements of a list (or any iterable), to the end of the current list\n",
    "# index()    Returns the index of the first element with the specified value\n",
    "# insert()   Adds an element at the specified position\n",
    "# pop()      Removes the element at the specified position\n",
    "# remove()   Removes the first item with the specified value\n",
    "# reverse()  Reverses the order of the list\n",
    "# sort()     Sorts the list"
   ]
  }
 ],
 "metadata": {
  "kernelspec": {
   "display_name": "Python 3",
   "language": "python",
   "name": "python3"
  },
  "language_info": {
   "codemirror_mode": {
    "name": "ipython",
    "version": 3
   },
   "file_extension": ".py",
   "mimetype": "text/x-python",
   "name": "python",
   "nbconvert_exporter": "python",
   "pygments_lexer": "ipython3",
   "version": "3.8.8"
  }
 },
 "nbformat": 4,
 "nbformat_minor": 4
}
