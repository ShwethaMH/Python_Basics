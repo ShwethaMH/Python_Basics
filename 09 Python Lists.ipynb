{
 "cells": [
  {
   "cell_type": "code",
   "execution_count": null,
   "metadata": {},
   "outputs": [],
   "source": [
    "# Python Lists\n",
    "\n",
    "# Python Collections (Arrays)\n",
    "\n",
    "# There are four collection data types in the Python programming language:\n",
    "\n",
    "# List is a collection which is ordered and changeable. Allows duplicate members.\n",
    "\n",
    "# Tuple is a collection which is ordered and unchangeable. Allows duplicate members.\n",
    "\n",
    "# Set is a collection which is unordered and unindexed. No duplicate members.\n",
    "\n",
    "# Dictionary is a collection which is unordered, changeable and indexed. No duplicate members.\n",
    "\n",
    "# When choosing a collection type, it is useful to understand the properties of that type.\n",
    "#Choosing the right type for a particular data set could mean retention of meaning, and, it could\n",
    "# mean an increase in efficiency or security."
   ]
  },
  {
   "cell_type": "code",
   "execution_count": 1,
   "metadata": {},
   "outputs": [
    {
     "name": "stdout",
     "output_type": "stream",
     "text": [
      "['apple', 'banana', 'cherry']\n"
     ]
    }
   ],
   "source": [
    "# List\n",
    "\n",
    "# A list is a collection which is ordered and changeable.\n",
    "# In Python lists are written with square brackets.\n",
    "\n",
    "thislist = [\"apple\", \"banana\", \"cherry\"]\n",
    "print(thislist)"
   ]
  },
  {
   "cell_type": "code",
   "execution_count": 2,
   "metadata": {},
   "outputs": [
    {
     "name": "stdout",
     "output_type": "stream",
     "text": [
      "banana\n"
     ]
    }
   ],
   "source": [
    "# Access Items\n",
    "# You access the list items by referring to the index number:\n",
    "\n",
    "# Print the second item of the list:\n",
    "thislist = [\"apple\", \"banana\", \"cherry\"]\n",
    "print(thislist[1])"
   ]
  },
  {
   "cell_type": "code",
   "execution_count": 3,
   "metadata": {},
   "outputs": [
    {
     "name": "stdout",
     "output_type": "stream",
     "text": [
      "cherry\n"
     ]
    }
   ],
   "source": [
    "# Negative Indexing\n",
    "# Negative indexing means beginning from the end, -1 refers to the last item, -2 refers to the\n",
    "# second last item etc.\n",
    "\n",
    "# Print the last item of the list:\n",
    "thislist = [\"apple\", \"banana\", \"cherry\"]\n",
    "print(thislist[-1])"
   ]
  },
  {
   "cell_type": "code",
   "execution_count": 4,
   "metadata": {},
   "outputs": [
    {
     "name": "stdout",
     "output_type": "stream",
     "text": [
      "['cherry', 'orange', 'kiwi']\n"
     ]
    }
   ],
   "source": [
    "# Range of Indexes\n",
    "\n",
    "# You can specify a range of indexes by specifying where to start and where to end the range.\n",
    "\n",
    "# When specifying a range, the return value will be a new list with the specified items.\n",
    "\n",
    "# Return the third, fourth, and fifth item:\n",
    "thislist = [\"apple\", \"banana\", \"cherry\", \"orange\", \"kiwi\", \"melon\", \"mango\"]\n",
    "print(thislist[2:5])\n",
    "\n",
    "#Note: The search will start at index 2 (included) and end at index 5 (not included)."
   ]
  },
  {
   "cell_type": "code",
   "execution_count": 5,
   "metadata": {},
   "outputs": [
    {
     "name": "stdout",
     "output_type": "stream",
     "text": [
      "['apple', 'banana', 'cherry', 'orange']\n"
     ]
    }
   ],
   "source": [
    "# By leaving out the start value, the range will start at the first item:\n",
    "\n",
    "thislist = [\"apple\", \"banana\", \"cherry\", \"orange\", \"kiwi\", \"melon\", \"mango\"]\n",
    "print(thislist[:4])"
   ]
  },
  {
   "cell_type": "code",
   "execution_count": 6,
   "metadata": {},
   "outputs": [
    {
     "name": "stdout",
     "output_type": "stream",
     "text": [
      "['cherry', 'orange', 'kiwi', 'melon', 'mango']\n"
     ]
    }
   ],
   "source": [
    "# By leaving out the end value, the range will go on to the end of the list:\n",
    "\n",
    "thislist = [\"apple\", \"banana\", \"cherry\", \"orange\", \"kiwi\", \"melon\", \"mango\"]\n",
    "print(thislist[2:])"
   ]
  },
  {
   "cell_type": "code",
   "execution_count": 7,
   "metadata": {},
   "outputs": [
    {
     "name": "stdout",
     "output_type": "stream",
     "text": [
      "['orange', 'kiwi', 'melon']\n"
     ]
    }
   ],
   "source": [
    "# Range of Negative Indexes\n",
    "\n",
    "# Specify negative indexes if you want to start the search from the end of the list:\n",
    "thislist = [\"apple\", \"banana\", \"cherry\", \"orange\", \"kiwi\", \"melon\", \"mango\"]\n",
    "print(thislist[-4:-1])"
   ]
  },
  {
   "cell_type": "code",
   "execution_count": 8,
   "metadata": {},
   "outputs": [
    {
     "name": "stdout",
     "output_type": "stream",
     "text": [
      "['apple', 'blackcurrant', 'cherry']\n"
     ]
    }
   ],
   "source": [
    "# Change Item Value\n",
    "# To change the value of a specific item, refer to the index number:\n",
    "# Change the second item:\n",
    "thislist = [\"apple\", \"banana\", \"cherry\"]\n",
    "thislist[1] = \"blackcurrant\"\n",
    "print(thislist)"
   ]
  },
  {
   "cell_type": "code",
   "execution_count": 9,
   "metadata": {},
   "outputs": [
    {
     "name": "stdout",
     "output_type": "stream",
     "text": [
      "apple\n",
      "banana\n",
      "cherry\n"
     ]
    }
   ],
   "source": [
    "# Loop Through a List\n",
    "# You can loop through the list items by using a for loop:\n",
    "# Print all items in the list, one by one:\n",
    "thislist = [\"apple\", \"banana\", \"cherry\"]\n",
    "for x in thislist:\n",
    "  print(x)"
   ]
  },
  {
   "cell_type": "code",
   "execution_count": 10,
   "metadata": {},
   "outputs": [
    {
     "name": "stdout",
     "output_type": "stream",
     "text": [
      "['apple', 'banana', 'mango']\n"
     ]
    }
   ],
   "source": [
    "# List Comprehension\n",
    "\n",
    "# List comprehension offers a shorter syntax when you want to create a new list based on the \n",
    "# values of an existing list.\n",
    "\n",
    "# Example: You want to create a list of all the fruits that has the letter \"a\" in the name.\n",
    "\n",
    "# Without list comprehension you will have to write a for statement with a conditional test inside\n",
    "\n",
    "fruits = [\"apple\", \"banana\", \"cherry\", \"kiwi\", \"mango\"]\n",
    "newlist = []\n",
    "\n",
    "for x in fruits:\n",
    "  if \"a\" in x:\n",
    "    newlist.append(x)\n",
    "\n",
    "print(newlist)"
   ]
  },
  {
   "cell_type": "code",
   "execution_count": 11,
   "metadata": {},
   "outputs": [
    {
     "name": "stdout",
     "output_type": "stream",
     "text": [
      "['apple', 'banana', 'mango']\n"
     ]
    }
   ],
   "source": [
    "# With list comprehension you can do all that with only one line of code:\n",
    "\n",
    "fruits = [\"apple\", \"banana\", \"cherry\", \"kiwi\", \"mango\"]\n",
    "\n",
    "newlist = [x for x in fruits if \"a\" in x]\n",
    "\n",
    "print(newlist)"
   ]
  },
  {
   "cell_type": "code",
   "execution_count": null,
   "metadata": {},
   "outputs": [],
   "source": [
    "# The list comprehension is wrapped around square backets, contains one or more for statements,\n",
    " # zero or more if statements, and returns a new list."
   ]
  },
  {
   "cell_type": "code",
   "execution_count": 12,
   "metadata": {},
   "outputs": [
    {
     "name": "stdout",
     "output_type": "stream",
     "text": [
      "[1, 4, 9, 16, 25, 36, 49, 64, 81, 100]\n"
     ]
    }
   ],
   "source": [
    "# say you want to compute the square of each number in a list. You can do this by providing\n",
    "# the expression for your computation and the input sequence to loop over.\n",
    "\n",
    "lst = [1, 2, 3, 4, 5, 6, 7, 8, 9, 10]\n",
    "squares = [x**2 for x in lst]\n",
    "print(squares)"
   ]
  },
  {
   "cell_type": "code",
   "execution_count": 13,
   "metadata": {},
   "outputs": [
    {
     "name": "stdout",
     "output_type": "stream",
     "text": [
      "[0, 2, 4, 6, 8]\n"
     ]
    }
   ],
   "source": [
    "# if x % 2 == 0 checks if a number is even.\n",
    "\n",
    "# x % 2 is 1 when the number is odd, and 0 when it is even.\n",
    "\n",
    "evens = []\n",
    "for i in range(10):\n",
    "   if i % 2 == 0:\n",
    "      evens. append(i)\n",
    "print(evens)"
   ]
  },
  {
   "cell_type": "code",
   "execution_count": 14,
   "metadata": {},
   "outputs": [
    {
     "data": {
      "text/plain": [
       "[0, 2, 4, 6, 8]"
      ]
     },
     "execution_count": 14,
     "metadata": {},
     "output_type": "execute_result"
    }
   ],
   "source": [
    "# A better and faster way to write the above code is through list comprehension.\n",
    "\n",
    "[i for i in range(10) if i % 2 ==0]"
   ]
  },
  {
   "cell_type": "code",
   "execution_count": 15,
   "metadata": {},
   "outputs": [
    {
     "name": "stdout",
     "output_type": "stream",
     "text": [
      "[0, 10, 20, 30, 40, 50, 60, 70, 80, 90]\n"
     ]
    }
   ],
   "source": [
    "# compute the numbers less than 100, which are divisible by 2 and 5 both.\n",
    "\n",
    "lst = [x for x in range(100) if x%2==0 if x%5==0]\n",
    "print(lst)"
   ]
  },
  {
   "cell_type": "code",
   "execution_count": 16,
   "metadata": {},
   "outputs": [
    {
     "name": "stdout",
     "output_type": "stream",
     "text": [
      "[4, 16, 36, 64, 100]\n"
     ]
    }
   ],
   "source": [
    "# compute the squares of the numbers that are divisible by 2\n",
    "\n",
    "lst = [1,2,3,4,5,6,7,8,9,10]\n",
    "even_squares = [x**2 for x in lst if x%2==0]\n",
    "print(even_squares)"
   ]
  },
  {
   "cell_type": "code",
   "execution_count": 17,
   "metadata": {},
   "outputs": [
    {
     "name": "stdout",
     "output_type": "stream",
     "text": [
      "[2, 4, 6, 8, 10, 12, 14, 16, 18, 20, 22, 24, 26, 28, 30, 32, 34, 36, 38, 40, 42, 44, 46, 48, 50, 52, 54, 56, 58, 60, 62, 64, 66, 68, 70, 72, 74, 76, 78, 80, 82, 84, 86, 88, 90, 92, 94, 96, 98]\n"
     ]
    }
   ],
   "source": [
    "# Calculate even numbers between 1 to 100.\n",
    "\n",
    "evens = [i for i in range(1,100) if not i%2]\n",
    "print(evens)"
   ]
  },
  {
   "cell_type": "code",
   "execution_count": null,
   "metadata": {},
   "outputs": [],
   "source": [
    "# if not x%2\n",
    "# Modulo operator calculates the remainder of number x w.r.t number y. And in your example x is\n",
    " # ranging from 1-9 and y is given as 2.\n",
    "\n",
    "# So first, x%2 will evaluate to either 1 or 0 based whether x is odd number or even number \n",
    " # respectively.\n",
    "\n",
    "# for example:\n",
    "\n",
    "# for x=1 , x%2 = 1%2 (calculating the remainder) = 1\n",
    "\n",
    "# for x=2 , x%2 = 2%2 = 0\n",
    "\n",
    "# Similarly, x=3, 3%2 = 1 (remainder)\n",
    "\n",
    "# And so on...\n",
    "\n",
    "# Now, if it is even number meaning evaluating to 0 which is equivalent to False and then not \n",
    " # operator is negating the result i.e. not(False) == True,hence condition becoming True\n",
    "\n",
    "# So, when if condition is coming out to be True then, your code is incrementing the count of \n",
    " # even number."
   ]
  },
  {
   "cell_type": "code",
   "execution_count": 18,
   "metadata": {},
   "outputs": [
    {
     "name": "stdout",
     "output_type": "stream",
     "text": [
      "Yes! 'apple' is in the fruits list\n"
     ]
    }
   ],
   "source": [
    "# Check if Item Exists\n",
    "# To determine if a specified item is present in a list use the \"in\" keyword:\n",
    "\n",
    "# Check if \"apple\" is present in the list:\n",
    "\n",
    "thislist = [\"apple\", \"banana\", \"cherry\"]\n",
    "if \"apple\" in thislist:\n",
    "    print(\"Yes! 'apple' is in the fruits list\")"
   ]
  },
  {
   "cell_type": "code",
   "execution_count": 19,
   "metadata": {},
   "outputs": [
    {
     "name": "stdout",
     "output_type": "stream",
     "text": [
      "3\n"
     ]
    }
   ],
   "source": [
    "# List Length\n",
    "\n",
    "# To determine how many items a list has, use the \"len()\" function:\n",
    "\n",
    "thislist = [\"apple\", \"banana\", \"cherry\"]\n",
    "print(len(thislist))"
   ]
  },
  {
   "cell_type": "code",
   "execution_count": 20,
   "metadata": {},
   "outputs": [
    {
     "name": "stdout",
     "output_type": "stream",
     "text": [
      "['apple', 'banana', 'cherry', 'cranberry']\n"
     ]
    }
   ],
   "source": [
    "# Add Items\n",
    "\n",
    "# To add an item to the end of the list, use the \"append()\" method:\n",
    "\n",
    "thislist = [\"apple\", \"banana\", \"cherry\"]\n",
    "thislist.append(\"cranberry\")\n",
    "print(thislist)"
   ]
  },
  {
   "cell_type": "code",
   "execution_count": 21,
   "metadata": {},
   "outputs": [
    {
     "name": "stdout",
     "output_type": "stream",
     "text": [
      "['apple', 'cranberry', 'banana', 'cherry']\n"
     ]
    }
   ],
   "source": [
    "# To add an item at the specified index, use the \"insert()\" method:\n",
    "\n",
    "thislist = [\"apple\", \"banana\", \"cherry\"]\n",
    "thislist.insert(1,\"cranberry\")\n",
    "print(thislist)"
   ]
  },
  {
   "cell_type": "code",
   "execution_count": 22,
   "metadata": {},
   "outputs": [
    {
     "name": "stdout",
     "output_type": "stream",
     "text": [
      "['apple', 'cherry']\n"
     ]
    }
   ],
   "source": [
    "# Remove Item\n",
    "\n",
    "# The \"remove()\" method removes the specified item:\n",
    "thislist = [\"apple\", \"banana\", \"cherry\"]\n",
    "thislist.remove(\"banana\")\n",
    "print(thislist)"
   ]
  },
  {
   "cell_type": "code",
   "execution_count": 23,
   "metadata": {},
   "outputs": [
    {
     "name": "stdout",
     "output_type": "stream",
     "text": [
      "['apple', 'banana']\n"
     ]
    }
   ],
   "source": [
    "# The \"pop()\" method removes the specified index, (or the last item if index is not specified):\n",
    "\n",
    "thislist = [\"apple\", \"banana\", \"cherry\"]\n",
    "thislist.pop()\n",
    "print(thislist)"
   ]
  },
  {
   "cell_type": "code",
   "execution_count": 24,
   "metadata": {},
   "outputs": [
    {
     "name": "stdout",
     "output_type": "stream",
     "text": [
      "['apple', 'cherry']\n"
     ]
    }
   ],
   "source": [
    "thislist = [\"apple\", \"banana\", \"cherry\"]\n",
    "thislist.pop(1)\n",
    "print(thislist)"
   ]
  },
  {
   "cell_type": "code",
   "execution_count": 25,
   "metadata": {},
   "outputs": [
    {
     "name": "stdout",
     "output_type": "stream",
     "text": [
      "['apple', 'cherry']\n"
     ]
    }
   ],
   "source": [
    "# The \"del\" keyword removes the specified index:\n",
    "\n",
    "thislist = [\"apple\", \"banana\", \"cherry\"]\n",
    "del thislist[1]\n",
    "print(thislist)"
   ]
  },
  {
   "cell_type": "code",
   "execution_count": 26,
   "metadata": {},
   "outputs": [
    {
     "ename": "NameError",
     "evalue": "name 'thislist' is not defined",
     "output_type": "error",
     "traceback": [
      "\u001b[1;31m---------------------------------------------------------------------------\u001b[0m",
      "\u001b[1;31mNameError\u001b[0m                                 Traceback (most recent call last)",
      "\u001b[1;32m<ipython-input-26-7e243fe69c9e>\u001b[0m in \u001b[0;36m<module>\u001b[1;34m\u001b[0m\n\u001b[0;32m      3\u001b[0m \u001b[0mthislist\u001b[0m \u001b[1;33m=\u001b[0m \u001b[1;33m[\u001b[0m\u001b[1;34m\"apple\"\u001b[0m\u001b[1;33m,\u001b[0m \u001b[1;34m\"banana\"\u001b[0m\u001b[1;33m,\u001b[0m \u001b[1;34m\"cherry\"\u001b[0m\u001b[1;33m]\u001b[0m\u001b[1;33m\u001b[0m\u001b[1;33m\u001b[0m\u001b[0m\n\u001b[0;32m      4\u001b[0m \u001b[1;32mdel\u001b[0m \u001b[0mthislist\u001b[0m\u001b[1;33m\u001b[0m\u001b[1;33m\u001b[0m\u001b[0m\n\u001b[1;32m----> 5\u001b[1;33m \u001b[0mprint\u001b[0m\u001b[1;33m(\u001b[0m\u001b[0mthislist\u001b[0m\u001b[1;33m)\u001b[0m \u001b[1;31m#this will cause an error because you have succsesfully deleted \"thislist\".\u001b[0m\u001b[1;33m\u001b[0m\u001b[1;33m\u001b[0m\u001b[0m\n\u001b[0m",
      "\u001b[1;31mNameError\u001b[0m: name 'thislist' is not defined"
     ]
    }
   ],
   "source": [
    "# The \"del\" keyword can also delete the list completely:\n",
    "\n",
    "thislist = [\"apple\", \"banana\", \"cherry\"]\n",
    "del thislist\n",
    "print(thislist) #this will cause an error because you have succsesfully deleted \"thislist\"."
   ]
  },
  {
   "cell_type": "code",
   "execution_count": 27,
   "metadata": {},
   "outputs": [
    {
     "name": "stdout",
     "output_type": "stream",
     "text": [
      "[]\n"
     ]
    }
   ],
   "source": [
    "# The \"clear()\" method empties the list:\n",
    "\n",
    "thislist = [\"apple\", \"banana\", \"cherry\"]\n",
    "thislist.clear()\n",
    "print(thislist)"
   ]
  },
  {
   "cell_type": "code",
   "execution_count": 28,
   "metadata": {},
   "outputs": [
    {
     "name": "stdout",
     "output_type": "stream",
     "text": [
      "['apple', 'banana', 'cherry']\n"
     ]
    }
   ],
   "source": [
    "# Make a copy of a list with the \"copy()\" method:\n",
    "\n",
    "thislist = [\"apple\", \"banana\", \"cherry\"]\n",
    "mylist = thislist.copy()\n",
    "print(mylist)"
   ]
  },
  {
   "cell_type": "code",
   "execution_count": 29,
   "metadata": {},
   "outputs": [
    {
     "name": "stdout",
     "output_type": "stream",
     "text": [
      "['apple', 'banana', 'cherry']\n"
     ]
    }
   ],
   "source": [
    "# Make a copy of a list with the \"list()\" method:\n",
    "\n",
    "thislist = [\"apple\", \"banana\", \"cherry\"]\n",
    "mylist = list(thislist)\n",
    "print(mylist)"
   ]
  },
  {
   "cell_type": "code",
   "execution_count": 30,
   "metadata": {},
   "outputs": [
    {
     "name": "stdout",
     "output_type": "stream",
     "text": [
      "['a', 'b', 'c', 1, 2, 3]\n"
     ]
    }
   ],
   "source": [
    "# Join Two Lists by using operator \"+\"\n",
    "\n",
    "list1 = [\"a\", \"b\", \"c\"]\n",
    "list2 = [1,2,3]\n",
    "list3 = list1+list2\n",
    "print(list3)"
   ]
  },
  {
   "cell_type": "code",
   "execution_count": 31,
   "metadata": {},
   "outputs": [
    {
     "name": "stdout",
     "output_type": "stream",
     "text": [
      "['a', 'b', 'c', 1, 2, 3]\n"
     ]
    }
   ],
   "source": [
    "# Join two lists by using \"append()\"\n",
    "\n",
    "list1 = [\"a\", \"b\", \"c\"]\n",
    "list2 = [1,2,3]\n",
    "for x in list2:\n",
    "    list1.append(x)\n",
    "print(list1)"
   ]
  },
  {
   "cell_type": "code",
   "execution_count": 32,
   "metadata": {},
   "outputs": [
    {
     "name": "stdout",
     "output_type": "stream",
     "text": [
      "['a', 'b', 'c', 1, 2, 3]\n"
     ]
    }
   ],
   "source": [
    "# Join two lists by using \"extend()\"\n",
    "\n",
    "list1 = [\"a\", \"b\", \"c\"]\n",
    "list2 = [1,2,3]\n",
    "list1.extend(list2)\n",
    "print(list1)"
   ]
  },
  {
   "cell_type": "code",
   "execution_count": 33,
   "metadata": {},
   "outputs": [
    {
     "name": "stdout",
     "output_type": "stream",
     "text": [
      "['apple', 'banana', 'cherry']\n"
     ]
    }
   ],
   "source": [
    "# The list() Constructor\n",
    "\n",
    "# Using the \"list()\" constructor to make a List:\n",
    "thislist = list((\"apple\", \"banana\", \"cherry\")) # note the double round brackets\n",
    "print(thislist)"
   ]
  },
  {
   "cell_type": "code",
   "execution_count": null,
   "metadata": {},
   "outputs": [],
   "source": [
    "# List Methods\n",
    "\n",
    "#Python has a set of built-in methods that you can use on lists.\n",
    "\n",
    "#   method                description\n",
    "\n",
    "# append()       Adds an element at the end of the list\n",
    "# clear()        Removes all the elements from the list\n",
    "# copy()         Returns a copy of the list\n",
    "# count()        Returns the number of elements with the specified value\n",
    "# extend()       Add the elements of a list (or any iterable), to the end of the current list\n",
    "# index()        Returns the index of the first element with the specified value\n",
    "# insert()       Adds an element at the specified position\n",
    "# pop()          Removes the element at the specified position\n",
    "# remove()       Removes the element at the specified position\n",
    "# reverse()      Reverses the order of the list\n",
    "# sort()         Sorts the list"
   ]
  },
  {
   "cell_type": "code",
   "execution_count": 34,
   "metadata": {},
   "outputs": [
    {
     "name": "stdout",
     "output_type": "stream",
     "text": [
      "b\n",
      "b\n",
      "['b', 'c']\n",
      "['z', 'b', 'c']\n",
      "['z', 2, 3]\n",
      "[1, 2, 3, 5]\n"
     ]
    }
   ],
   "source": [
    "# List Slicing\n",
    "\n",
    "new_list = ['a', 'b', 'c']\n",
    "print(new_list[1])\n",
    "print(new_list[-2])\n",
    "print(new_list[1:3])\n",
    "new_list[0] = 'z'\n",
    "print(new_list)\n",
    "\n",
    "my_list = [1,2,3]\n",
    "bonus = my_list + [5]\n",
    "my_list[0] = 'z'\n",
    "print(my_list)\n",
    "print(bonus)"
   ]
  },
  {
   "cell_type": "code",
   "execution_count": 37,
   "metadata": {},
   "outputs": [
    {
     "name": "stdout",
     "output_type": "stream",
     "text": [
      "Oranges\n"
     ]
    }
   ],
   "source": [
    "# MAtrix: Its an array inside an array\n",
    "\n",
    "basket = [\"Banana\", [\"Apples\", [\"Oranges\"], \"Blueberries\"]] # access \"Oranges\" and print it\n",
    "\n",
    "print(basket[1][1][0])"
   ]
  },
  {
   "cell_type": "code",
   "execution_count": 39,
   "metadata": {},
   "outputs": [
    {
     "name": "stdout",
     "output_type": "stream",
     "text": [
      "['Amira', 'Carrie', 'Chu', 'Joy', 'Patty', 'Simon', 'Stanley']\n"
     ]
    }
   ],
   "source": [
    "# sort(): Sorts the list\n",
    "\n",
    "friends = ['Simon', 'Patty', 'Joy', 'Carrie', 'Amira', 'Chu']\n",
    "\n",
    "new_friend = ['Stanley']\n",
    "\n",
    "friends.extend(new_friend)\n",
    "\n",
    "print(sorted(friends))\n"
   ]
  },
  {
   "cell_type": "code",
   "execution_count": 40,
   "metadata": {},
   "outputs": [
    {
     "name": "stdout",
     "output_type": "stream",
     "text": [
      "1\n",
      "2\n",
      "3\n"
     ]
    }
   ],
   "source": [
    "# List Unpacking\n",
    "\n",
    "a,b,c = [1,2,3]\n",
    "\n",
    "print(a)\n",
    "print(b)\n",
    "print(c)"
   ]
  },
  {
   "cell_type": "code",
   "execution_count": 41,
   "metadata": {},
   "outputs": [
    {
     "name": "stdout",
     "output_type": "stream",
     "text": [
      "1\n",
      "2\n",
      "3\n",
      "[4, 5, 6, 7, 8, 9]\n"
     ]
    }
   ],
   "source": [
    "a,b,c, *other = [1,2,3,4,5,6,7,8,9]\n",
    "\n",
    "print(a)\n",
    "print(b)\n",
    "print(c)\n",
    "print(other)"
   ]
  },
  {
   "cell_type": "code",
   "execution_count": 42,
   "metadata": {},
   "outputs": [
    {
     "name": "stdout",
     "output_type": "stream",
     "text": [
      "1\n",
      "2\n",
      "3\n",
      "[4, 5, 6, 7, 8]\n",
      "9\n"
     ]
    }
   ],
   "source": [
    "a,b,c, *other, d = [1,2,3,4,5,6,7,8,9]\n",
    "\n",
    "print(a)\n",
    "print(b)\n",
    "print(c)\n",
    "print(other)\n",
    "print(d)"
   ]
  }
 ],
 "metadata": {
  "kernelspec": {
   "display_name": "Python 3",
   "language": "python",
   "name": "python3"
  },
  "language_info": {
   "codemirror_mode": {
    "name": "ipython",
    "version": 3
   },
   "file_extension": ".py",
   "mimetype": "text/x-python",
   "name": "python",
   "nbconvert_exporter": "python",
   "pygments_lexer": "ipython3",
   "version": "3.8.3"
  }
 },
 "nbformat": 4,
 "nbformat_minor": 4
}
