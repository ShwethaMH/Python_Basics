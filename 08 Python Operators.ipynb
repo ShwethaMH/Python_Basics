{
 "cells": [
  {
   "cell_type": "code",
   "execution_count": null,
   "metadata": {},
   "outputs": [],
   "source": [
    "# Python Operators\n",
    "\n",
    "#Operators are used to perform operations on variables and values.\n",
    "\n",
    "# Python divides the operators in the following groups:\n",
    "\n",
    "# Arithmetic operators\n",
    "# Assignment operators\n",
    "# Comparison operators\n",
    "# Logical operators\n",
    "# Identity operators\n",
    "# Membership operators\n",
    "# Bitwise operators"
   ]
  },
  {
   "cell_type": "code",
   "execution_count": null,
   "metadata": {},
   "outputs": [],
   "source": [
    "# Python Arithmetic Operators\n",
    "\n",
    "# Arithmetic operators are used with numeric values to perform common mathematical operations:\n",
    "\n",
    "# +  Addition       x + y\n",
    "# -  Subtraction    x - y\n",
    "# *  Multiplication x * y\n",
    "# /  Division       x / y\n",
    "# %  Modulus        x % y\n",
    "# ** Exponentiation x ** y\n",
    "# // Floor division x // y\n",
    "\n",
    "# Order that folllows while arithmetic operators - \n",
    "# 1st Brackets\n",
    "# 2nd Exponentials\n",
    "# 3rd Multiplication or Division\n",
    "# 4th Addition or Substraction"
   ]
  },
  {
   "cell_type": "code",
   "execution_count": 1,
   "metadata": {},
   "outputs": [
    {
     "name": "stdout",
     "output_type": "stream",
     "text": [
      "45.0\n",
      "45.0\n",
      "45.0\n",
      "25.0\n",
      "25\n"
     ]
    }
   ],
   "source": [
    "print((5 + 4) * 10 / 2)\n",
    "\n",
    "print(((5 + 4) * 10) / 2)\n",
    "\n",
    "print((5 + 4) * (10 / 2))\n",
    "\n",
    "print(5 + (4 * 10) / 2)\n",
    "\n",
    "print(5 + 4 * 10 // 2)"
   ]
  },
  {
   "cell_type": "code",
   "execution_count": null,
   "metadata": {},
   "outputs": [],
   "source": [
    "# Python Assignment Operators\n",
    "\n",
    "# Assignment operators are used to assign values to variables:\n",
    "\n",
    "# operator example    same as\n",
    "\n",
    "#   =       x = 5      x = 5\n",
    "#  +=       x += 3     x = x + 3\n",
    "#  -=       x -= 3     x = x - 3\n",
    "#  *=       x *= 3     x = x * 3\n",
    "#  /=       x /= 3     x = x / 3\n",
    "#  %=       x %= 3     x = x % 3\n",
    "#  //=      x //= 3    x = x // 3\n",
    "#  **=      x **= 3    x = x ** 3\n",
    "#  &=       x &= 3     x = x & 3\n",
    "#  |=       x |= 3     x = x | 3\n",
    "#  ^=       x ^= 3     x = x ^ 3\n",
    "#  >>=      x >>= 3    x = x >> 3\n",
    "#  <<=      x <<= 3    x = x << 3"
   ]
  },
  {
   "cell_type": "code",
   "execution_count": null,
   "metadata": {},
   "outputs": [],
   "source": [
    "# Python Comparison Operators\n",
    "\n",
    "#Comparison operators are used to compare two values:\n",
    "\n",
    "# operator  name                  example\n",
    "\n",
    "#   ==    Equal                     x == y\t\n",
    "#   !=    Not equal                 x != y\t\n",
    "#   >     Greater than              x > y\t\n",
    "#   <     Less than                 x < y\t\n",
    "#   >=    Greater than or equal to  x >= y\t\n",
    "#   <=    Less than or equal to     x <= y"
   ]
  },
  {
   "cell_type": "code",
   "execution_count": null,
   "metadata": {},
   "outputs": [],
   "source": [
    "# Python Logical Operators\n",
    "\n",
    "# Logical operators are used to combine conditional statements:\n",
    "\n",
    "# operator      description                                                example\n",
    "\n",
    "# and          Returns True if both statements are true                  x < 5 and  x < 10\n",
    "# or           Returns True if one of the statements is true             x < 5 or x < 4\n",
    "# not          Reverse the result, returns False if the result is true   not(x < 5 and x < 10)"
   ]
  },
  {
   "cell_type": "code",
   "execution_count": null,
   "metadata": {},
   "outputs": [],
   "source": [
    "# Python Identity Operators\n",
    "\n",
    "# Identity operators are used to compare the objects, not if they are equal, but if they\n",
    "# are actually the same object, with the same memory location:\n",
    "\n",
    "# operator      description                                            example\n",
    "\n",
    "# is          Returns True if both variables are the same object       x is y\n",
    "# is not      Returns True if both variables are not the same object   x is not y"
   ]
  },
  {
   "cell_type": "code",
   "execution_count": null,
   "metadata": {},
   "outputs": [],
   "source": [
    "# Python Membership Operators\n",
    "\n",
    "# Membership operators are used to test if a sequence is presented in an object:\n",
    "\n",
    "#  operator                   description                                                     example\n",
    "\n",
    "# in         Returns True if a sequence with the specified value is present in the object     x in y\n",
    "# not in   \tReturns True if a sequence with the specified value is not present in the object  x not in y\n"
   ]
  },
  {
   "cell_type": "code",
   "execution_count": null,
   "metadata": {},
   "outputs": [],
   "source": [
    "# Python Bitwise Operators\n",
    "\n",
    "# Bitwise operators are used to compare (binary) numbers:\n",
    "\n",
    "# operator      name                           description\n",
    "\n",
    "# &             AND                Sets each bit to 1 if both bits are 1\n",
    "# |             OR                 Sets each bit to 1 if one of two bits is 1\n",
    "# ^             XOR                Sets each bit to 1 if only one of two bits is 1\n",
    "# ~             NOT                Inverts all the bits\n",
    "# <<        Zero fill left shift   Shift left by pushing zeros in from the right and \n",
    "                                   # let the leftmost bits fall off\n",
    "# >>        Signed right shift     Shift right by pushing copies of the leftmost bit in from \n",
    "                                   # the left, and let the rightmost bits fall off"
   ]
  },
  {
   "cell_type": "code",
   "execution_count": 2,
   "metadata": {},
   "outputs": [
    {
     "name": "stdout",
     "output_type": "stream",
     "text": [
      "15\n"
     ]
    }
   ],
   "source": [
    "# Walrus Operator : The walrus operator is used as an assignment expression. \n",
    "# It allows you to assign a value to a variable while also returning the value.\n",
    "\n",
    "if (sum := 10 + 5) > 10:\n",
    "    print(sum) #return 15 "
   ]
  },
  {
   "cell_type": "code",
   "execution_count": 3,
   "metadata": {},
   "outputs": [
    {
     "name": "stdout",
     "output_type": "stream",
     "text": [
      "True\n"
     ]
    }
   ],
   "source": [
    "if sum := 10 + 5 > 10:\n",
    "    print(sum) #return True"
   ]
  },
  {
   "cell_type": "code",
   "execution_count": 4,
   "metadata": {},
   "outputs": [
    {
     "name": "stdout",
     "output_type": "stream",
     "text": [
      "List is too long (4 elements, expected <= 3)\n"
     ]
    }
   ],
   "source": [
    "a = [1, 2, 3, 4] \n",
    "if (n := len(a)) > 3: \n",
    "    print(f\"List is too long ({n} elements, expected <= 3)\")"
   ]
  },
  {
   "cell_type": "code",
   "execution_count": 5,
   "metadata": {},
   "outputs": [
    {
     "name": "stdout",
     "output_type": "stream",
     "text": [
      "too long 14 elements\n",
      "14\n",
      "13\n",
      "12\n",
      "11\n",
      "10\n",
      "9\n",
      "8\n",
      "7\n",
      "6\n",
      "5\n",
      "4\n",
      "3\n",
      "2\n",
      "h\n"
     ]
    }
   ],
   "source": [
    "a = 'helloooooooooo'\n",
    "\n",
    "if ((n := len(a)) > 10):\n",
    "    print(f\"too long {n} elements\")\n",
    "\n",
    "while ((n := len(a)) > 1):\n",
    "    print(n)\n",
    "    a = a[:-1]\n",
    "\n",
    "print(a)"
   ]
  }
 ],
 "metadata": {
  "kernelspec": {
   "display_name": "Python 3",
   "language": "python",
   "name": "python3"
  },
  "language_info": {
   "codemirror_mode": {
    "name": "ipython",
    "version": 3
   },
   "file_extension": ".py",
   "mimetype": "text/x-python",
   "name": "python",
   "nbconvert_exporter": "python",
   "pygments_lexer": "ipython3",
   "version": "3.8.3"
  }
 },
 "nbformat": 4,
 "nbformat_minor": 4
}
