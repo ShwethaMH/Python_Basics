{
 "cells": [
  {
   "cell_type": "code",
   "execution_count": null,
   "metadata": {},
   "outputs": [],
   "source": [
    "# Python Data Types\n",
    "\n",
    "# Built-in Data Types\n",
    "# In programming, data type is an important concept.\n",
    "\n",
    "# Variables can store data of different types, and different types can do different things.\n",
    "\n",
    "# Python has the following data types built-in by default, in these categories:\n",
    "\n",
    "# Text Type:        str\n",
    "# Numeric Types:    int, float, complex\n",
    "# Sequence Types:   list, tuple, range\n",
    "# Mapping Type:     dict\n",
    "# Set Types:        set, frozenset\n",
    "# Boolean Type:     bool\n",
    "# Binary Types:     bytes, bytearray, memoryview"
   ]
  },
  {
   "cell_type": "code",
   "execution_count": 1,
   "metadata": {},
   "outputs": [
    {
     "name": "stdout",
     "output_type": "stream",
     "text": [
      "<class 'int'>\n"
     ]
    }
   ],
   "source": [
    "# Getting the Data Type\n",
    "# You can get the data type of any object by using the type() function:\n",
    "\n",
    "x = 5\n",
    "print(type(x))"
   ]
  },
  {
   "cell_type": "code",
   "execution_count": null,
   "metadata": {},
   "outputs": [],
   "source": [
    "# Setting the Data Type\n",
    "# In Python, the data type is set when you assign a value to a variable:\n",
    "\n",
    "#   x = \"Hello World\"                              str\n",
    "#   x = 20                                         int\n",
    "#   x = 20.5                                       float\n",
    "#   x = 1j                                         complex\n",
    "#   x = [\"apple\", \"banana\", \"cherry\"]              list\n",
    "#   x = (\"apple\", \"banana\", \"cherry\")              tuple\n",
    "#   x = range(6)                                   range\n",
    "#   x = {\"name\" : \"John\", \"age\" : 36}              dict\n",
    "#   x = {\"apple\", \"banana\", \"cherry\"}              set\n",
    "#   x = frozenset({\"apple\", \"banana\", \"cherry\"})   frozenset\n",
    "#   x = True                                       bool\n",
    "#   x = b\"Hello\"                                   bytes\n",
    "#   x = bytearray(5)                               bytearray\n",
    "#   x = memoryview(bytes(5))                       memoryview\n"
   ]
  },
  {
   "cell_type": "code",
   "execution_count": null,
   "metadata": {},
   "outputs": [],
   "source": [
    "# Setting the Specific Data Type\n",
    "# If you want to specify the data type, you can use the following constructor functions:\n",
    "\n",
    "x = str(\"Hello World\")\n",
    "x = int(20)\n",
    "x = float(20.5)\n",
    "x = complex(1j)\n",
    "x = list((\"apple\", \"banana\", \"cherry\"))\n",
    "x = tuple((\"apple\", \"banana\", \"cherry\"))\n",
    "x = range(6)\n",
    "x = dict(name=\"John\", age=36)\n",
    "x = set((\"apple\", \"banana\", \"cherry\"))\n",
    "x = frozenset((\"apple\", \"banana\", \"cherry\"))\n",
    "x = bool(5)\n",
    "x = bytes(5)\n",
    "x = bytearray(5)\n",
    "x = memoryview(bytes(5))"
   ]
  },
  {
   "cell_type": "code",
   "execution_count": null,
   "metadata": {},
   "outputs": [],
   "source": []
  },
  {
   "cell_type": "code",
   "execution_count": null,
   "metadata": {},
   "outputs": [],
   "source": []
  },
  {
   "cell_type": "code",
   "execution_count": null,
   "metadata": {},
   "outputs": [],
   "source": []
  },
  {
   "cell_type": "code",
   "execution_count": null,
   "metadata": {},
   "outputs": [],
   "source": []
  },
  {
   "cell_type": "code",
   "execution_count": null,
   "metadata": {},
   "outputs": [],
   "source": []
  },
  {
   "cell_type": "code",
   "execution_count": null,
   "metadata": {},
   "outputs": [],
   "source": []
  },
  {
   "cell_type": "code",
   "execution_count": null,
   "metadata": {},
   "outputs": [],
   "source": []
  }
 ],
 "metadata": {
  "kernelspec": {
   "display_name": "Python 3",
   "language": "python",
   "name": "python3"
  },
  "language_info": {
   "codemirror_mode": {
    "name": "ipython",
    "version": 3
   },
   "file_extension": ".py",
   "mimetype": "text/x-python",
   "name": "python",
   "nbconvert_exporter": "python",
   "pygments_lexer": "ipython3",
   "version": "3.8.8"
  }
 },
 "nbformat": 4,
 "nbformat_minor": 4
}
