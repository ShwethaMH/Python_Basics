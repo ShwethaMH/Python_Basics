{
 "cells": [
  {
   "cell_type": "code",
   "execution_count": 1,
   "metadata": {},
   "outputs": [
    {
     "name": "stdout",
     "output_type": "stream",
     "text": [
      "Hello\n",
      "Hello\n"
     ]
    }
   ],
   "source": [
    "# Python Strings\n",
    "\n",
    "# String Literals\n",
    "\n",
    "# String literals in python are surrounded by either single quotation marks, or double quotation\n",
    "  # marks.\n",
    "\n",
    "# 'hello' is the same as \"hello\".\n",
    "\n",
    "# You can display a string literal with the print() function:\n",
    "\n",
    "print(\"Hello\")\n",
    "print('Hello')"
   ]
  },
  {
   "cell_type": "code",
   "execution_count": 2,
   "metadata": {},
   "outputs": [
    {
     "name": "stdout",
     "output_type": "stream",
     "text": [
      "Hello\n"
     ]
    }
   ],
   "source": [
    "# Assign String to a Variable\n",
    "# Assigning a string to a variable is done with the variable name followed by an equal sign and\n",
    "# the string:\n",
    "\n",
    "a = \"Hello\"\n",
    "print(a)"
   ]
  },
  {
   "cell_type": "code",
   "execution_count": 3,
   "metadata": {},
   "outputs": [
    {
     "name": "stdout",
     "output_type": "stream",
     "text": [
      " Abhi is my husband. we have been in relationship for 13 years\n",
      "Abhi is a very good husband, who cooks, cleans and gets beating and scolding \n",
      "from me always.\n"
     ]
    }
   ],
   "source": [
    "# Multiline Strings\n",
    "# You can assign a multiline string to a variable by using three quotes or three single quotes:\n",
    "\n",
    "a = \"\"\" Abhi is my husband. we have been in relationship for 13 years\n",
    "Abhi is a very good husband, who cooks, cleans and gets beating and scolding \n",
    "from me always.\"\"\"\n",
    "print(a)"
   ]
  },
  {
   "cell_type": "code",
   "execution_count": 4,
   "metadata": {},
   "outputs": [
    {
     "name": "stdout",
     "output_type": "stream",
     "text": [
      "\n",
      "WOW\n",
      "O O\n",
      "---\n",
      "\n"
     ]
    }
   ],
   "source": [
    "long_string = '''\n",
    "WOW\n",
    "O O\n",
    "---\n",
    "'''\n",
    "print(long_string)"
   ]
  },
  {
   "cell_type": "code",
   "execution_count": 5,
   "metadata": {},
   "outputs": [
    {
     "name": "stdout",
     "output_type": "stream",
     "text": [
      "Hello Shwetha\n"
     ]
    }
   ],
   "source": [
    "# String Concatenation\n",
    "\n",
    "print('Hello' + ' Shwetha') # remember u can only add strings but not numbers or anything"
   ]
  },
  {
   "cell_type": "code",
   "execution_count": 6,
   "metadata": {},
   "outputs": [
    {
     "name": "stdout",
     "output_type": "stream",
     "text": [
      "<class 'int'>\n"
     ]
    }
   ],
   "source": [
    "#  Type Conversion\n",
    "\n",
    "a = str(100)\n",
    "b = int(a)\n",
    "c = type(b)\n",
    "\n",
    "print(c)"
   ]
  },
  {
   "cell_type": "code",
   "execution_count": 7,
   "metadata": {},
   "outputs": [
    {
     "name": "stdout",
     "output_type": "stream",
     "text": [
      "What year were you born?: 1991\n",
      "Your age is: 30\n"
     ]
    }
   ],
   "source": [
    "birth_year = input('What year were you born?: ')\n",
    "age = 2021 - int(birth_year)\n",
    "\n",
    "print(f'Your age is: {age}')"
   ]
  },
  {
   "cell_type": "code",
   "execution_count": 8,
   "metadata": {},
   "outputs": [
    {
     "name": "stdout",
     "output_type": "stream",
     "text": [
      "e\n"
     ]
    }
   ],
   "source": [
    "# Strings are Arrays\n",
    "\n",
    "# Like many other popular programming languages, strings in Python are arrays of bytes\n",
    "  # representing unicode characters.\n",
    "\n",
    "# However, Python does not have a character data type, a single character is simply a string with\n",
    "  # a length of 1.\n",
    "\n",
    "# Square brackets can be used to access elements of the string.\n",
    "\n",
    "# Get the character at position 1 (remember that the first character has the position 0):\n",
    "\n",
    "a = \"Hello, World!\"\n",
    "print(a[1])"
   ]
  },
  {
   "cell_type": "code",
   "execution_count": 9,
   "metadata": {},
   "outputs": [
    {
     "name": "stdout",
     "output_type": "stream",
     "text": [
      "llo\n"
     ]
    }
   ],
   "source": [
    "# Slicing\n",
    "\n",
    "# You can return a range of characters by using the slice syntax.\n",
    "\n",
    "# Specify the start index and the end index, separated by a colon, to return a part of the string.\n",
    "\n",
    "#Get the characters from position 2 to position 5 (not included):\n",
    "\n",
    "b = \"Hello, World!\"\n",
    "print(b[2:5])"
   ]
  },
  {
   "cell_type": "code",
   "execution_count": 10,
   "metadata": {},
   "outputs": [
    {
     "name": "stdout",
     "output_type": "stream",
     "text": [
      "orl\n"
     ]
    }
   ],
   "source": [
    "# Negative Indexing\n",
    "# Use negative indexes to start the slice from the end of the string:\n",
    "\n",
    "# Get the characters from position 5 to position 1 (not included), starting the count \n",
    "# from the end of the string:\n",
    "b = \"Hello, World!\"\n",
    "print(b[-5:-2])"
   ]
  },
  {
   "cell_type": "code",
   "execution_count": 11,
   "metadata": {},
   "outputs": [
    {
     "name": "stdout",
     "output_type": "stream",
     "text": [
      "13\n"
     ]
    }
   ],
   "source": [
    "# String Length\n",
    "# To get the length of a string, use the len() function.\n",
    "\n",
    "# The len() function returns the length of a string:\n",
    "\n",
    "a = \"Hello, World!\"\n",
    "print(len(a))"
   ]
  },
  {
   "cell_type": "code",
   "execution_count": null,
   "metadata": {},
   "outputs": [],
   "source": [
    "# String Methods\n",
    "# Python has a set of built-in methods that you can use on strings."
   ]
  },
  {
   "cell_type": "code",
   "execution_count": 12,
   "metadata": {},
   "outputs": [
    {
     "name": "stdout",
     "output_type": "stream",
     "text": [
      "Hello, World!\n"
     ]
    }
   ],
   "source": [
    "# The strip() method removes any whitespace from the beginning or the end:\n",
    "\n",
    "a = \" Hello, World! \"\n",
    "print(a.strip())"
   ]
  },
  {
   "cell_type": "code",
   "execution_count": 13,
   "metadata": {},
   "outputs": [
    {
     "name": "stdout",
     "output_type": "stream",
     "text": [
      "hello, world!\n"
     ]
    }
   ],
   "source": [
    "# The lower() method returns the string in lower case:\n",
    "\n",
    "a = \"Hello, World!\"\n",
    "print(a.lower())"
   ]
  },
  {
   "cell_type": "code",
   "execution_count": 14,
   "metadata": {},
   "outputs": [
    {
     "name": "stdout",
     "output_type": "stream",
     "text": [
      "HELLO, WORLD!\n"
     ]
    }
   ],
   "source": [
    "# The upper() method returns the string in upper case:\n",
    "\n",
    "a = \"Hello, World!\"\n",
    "print(a.upper())"
   ]
  },
  {
   "cell_type": "code",
   "execution_count": 15,
   "metadata": {},
   "outputs": [
    {
     "name": "stdout",
     "output_type": "stream",
     "text": [
      "Jello, World!\n"
     ]
    }
   ],
   "source": [
    "# The replace() method replaces a string with another string:\n",
    "\n",
    "a = \"Hello, World!\"\n",
    "print(a.replace(\"H\", \"J\"))"
   ]
  },
  {
   "cell_type": "code",
   "execution_count": 16,
   "metadata": {},
   "outputs": [
    {
     "name": "stdout",
     "output_type": "stream",
     "text": [
      "['Hello', ' World!']\n"
     ]
    }
   ],
   "source": [
    "# The split() method splits the string into substrings if it finds instances of the separator:\n",
    "\n",
    "a = \"Hello, World!\"\n",
    "print(a.split(\",\"))"
   ]
  },
  {
   "cell_type": "code",
   "execution_count": null,
   "metadata": {},
   "outputs": [],
   "source": [
    "# Check String\n",
    "# To check if a certain phrase or character is present in a string, we can use the keywords\n",
    "# in or not in."
   ]
  },
  {
   "cell_type": "code",
   "execution_count": 17,
   "metadata": {},
   "outputs": [
    {
     "name": "stdout",
     "output_type": "stream",
     "text": [
      "True\n"
     ]
    }
   ],
   "source": [
    "# Check if the phrase \"ain\" is present in the following text:\n",
    "\n",
    "txt = \"The rain in Spain stays mainly in the plain\"\n",
    "x = \"ain\" in txt\n",
    "print(x)"
   ]
  },
  {
   "cell_type": "code",
   "execution_count": 18,
   "metadata": {},
   "outputs": [
    {
     "name": "stdout",
     "output_type": "stream",
     "text": [
      "False\n"
     ]
    }
   ],
   "source": [
    "# Check if the phrase \"ain\" is NOT present in the following text:\n",
    "\n",
    "txt = \"The rain in Spain stays mainly in the plain\"\n",
    "x = \"ain\" not in txt\n",
    "print(x)"
   ]
  },
  {
   "cell_type": "code",
   "execution_count": 19,
   "metadata": {},
   "outputs": [
    {
     "name": "stdout",
     "output_type": "stream",
     "text": [
      "HelloWorld\n"
     ]
    }
   ],
   "source": [
    "# String Concatenation\n",
    "# To concatenate, or combine, two strings you can use the + operator.\n",
    "\n",
    "# Merge variable a with variable b into variable c:\n",
    "\n",
    "a = \"Hello\"\n",
    "b = \"World\"\n",
    "c = a + b\n",
    "print(c)"
   ]
  },
  {
   "cell_type": "code",
   "execution_count": 20,
   "metadata": {},
   "outputs": [
    {
     "name": "stdout",
     "output_type": "stream",
     "text": [
      "Hello World\n"
     ]
    }
   ],
   "source": [
    "# To add a space between them, add a \" \":\n",
    "\n",
    "a = \"Hello\"\n",
    "b = \"World\"\n",
    "c = a + \" \" + b\n",
    "print(c)"
   ]
  },
  {
   "cell_type": "code",
   "execution_count": 21,
   "metadata": {},
   "outputs": [
    {
     "name": "stdout",
     "output_type": "stream",
     "text": [
      "My name is John, and I am 36\n"
     ]
    }
   ],
   "source": [
    "# String Format\n",
    "\n",
    "#  we can combine strings and numbers by using the format() method!\n",
    "\n",
    "# The format() method takes the passed arguments, formats them, and places them in the string \n",
    "# where the placeholders {} are:\n",
    "\n",
    "age = 36\n",
    "txt = \"My name is John, and I am {}\"\n",
    "print(txt.format(age))"
   ]
  },
  {
   "cell_type": "code",
   "execution_count": 22,
   "metadata": {},
   "outputs": [
    {
     "name": "stdout",
     "output_type": "stream",
     "text": [
      "hi Shwetha. \n",
      " You are 30 years old\n"
     ]
    }
   ],
   "source": [
    "# one other method\n",
    "\n",
    "name = 'Shwetha'\n",
    "age = 30\n",
    "\n",
    "print(f'hi {name}. \\n You are {age} years old')"
   ]
  },
  {
   "cell_type": "code",
   "execution_count": 23,
   "metadata": {},
   "outputs": [
    {
     "name": "stdout",
     "output_type": "stream",
     "text": [
      "My name is shwetha, and i am 36\n"
     ]
    }
   ],
   "source": [
    "age = 36\n",
    "txt = \"My name is shwetha, and i am %s\" # %s is also a place holder\n",
    "print(txt %(age))"
   ]
  },
  {
   "cell_type": "code",
   "execution_count": 24,
   "metadata": {},
   "outputs": [
    {
     "name": "stdout",
     "output_type": "stream",
     "text": [
      "I want 3 pieces of item 567 for 49.95 dollars.\n"
     ]
    }
   ],
   "source": [
    "# The format() method takes unlimited number of arguments, and are placed into the \n",
    "# respective placeholders:\n",
    "\n",
    "quantity = 3\n",
    "itemno = 567\n",
    "price = 49.95\n",
    "myorder = \"I want {} pieces of item {} for {} dollars.\"\n",
    "print(myorder.format(quantity, itemno, price))"
   ]
  },
  {
   "cell_type": "code",
   "execution_count": 25,
   "metadata": {},
   "outputs": [
    {
     "name": "stdout",
     "output_type": "stream",
     "text": [
      "I want 3 pieces of item 567 for 49.95 dollars\n"
     ]
    }
   ],
   "source": [
    "quantity = 3\n",
    "itemno = 567\n",
    "price = 49.95\n",
    "myorder = \"I want %s pieces of item %s for %s dollars\" # using %s as place holder\n",
    "print(myorder %(quantity,itemno,price))"
   ]
  },
  {
   "cell_type": "code",
   "execution_count": 26,
   "metadata": {},
   "outputs": [
    {
     "name": "stdout",
     "output_type": "stream",
     "text": [
      "We are the so-called \"Vikings\" from the North\n"
     ]
    }
   ],
   "source": [
    "# Escape Character\n",
    "\n",
    "# To insert characters that are illegal in a string, use an escape character.\n",
    "\n",
    "# An escape character is a backslash \\ followed by the character you want to insert.\n",
    "\n",
    "# An example of an illegal character is a double quote inside a string that is surrounded by\n",
    "# double quotes:\n",
    "\n",
    "# \"We are the so-called \"Vikings\" from the north.\"\n",
    "\n",
    "txt = \"We are the so-called \\\"Vikings\\\" from the North\"\n",
    "print(txt)"
   ]
  },
  {
   "cell_type": "code",
   "execution_count": 27,
   "metadata": {},
   "outputs": [
    {
     "name": "stdout",
     "output_type": "stream",
     "text": [
      "\t It's \"kind of\" Sunny \n",
      " hope you have a good day!\n"
     ]
    }
   ],
   "source": [
    "weather = \"\\t It\\'s \\\"kind of\\\" Sunny \\n hope you have a good day!\"\n",
    "print(weather)"
   ]
  },
  {
   "cell_type": "code",
   "execution_count": null,
   "metadata": {},
   "outputs": [],
   "source": [
    "# Other escape characters used in Python:\n",
    "\n",
    "# \\'\tSingle Quote\n",
    "# \\\\\tBackslash\n",
    "# \\n\tNew Line\n",
    "# \\r\tCarriage Return\n",
    "# \\t\tTab\n",
    "# \\b\tBackspace\n",
    "# \\f\tForm Feed\n",
    "# \\ooo\tOctal value\n",
    "# \\xhh\tHex value"
   ]
  },
  {
   "cell_type": "code",
   "execution_count": null,
   "metadata": {},
   "outputs": [],
   "source": [
    "# String Methods\n",
    "\n",
    "# Python has a set of built-in methods that you can use on strings.\n",
    "\n",
    "# Note: All string methods returns new values. They do not change the original string.\n",
    "\n",
    "#   Method                  Description\n",
    "\n",
    "# capitalize()      Converts the first character to upper case\n",
    "# casefold()        Converts string into lower case\n",
    "# center()          Returns a centered string\n",
    "# count()           Returns the number of times a specified value occurs in a string\n",
    "# encode()          Returns an encoded version of the string\n",
    "# endswith()        Returns true if the string ends with the specified value\n",
    "# expandtabs()      Sets the tab size of the string\n",
    "# find()            Searches the string for a specified value and returns the position of where it was found\n",
    "# format()          Formats specified values in a string\n",
    "# format_map()      Formats specified values in a string\n",
    "# index()           Searches the string for a specified value and returns the position of where it was found\n",
    "# isalnum()         Returns True if all characters in the string are alphanumeric\n",
    "# isalpha()         Returns True if all characters in the string are in the alphabet\n",
    "# isdecimal()       Returns True if all characters in the string are decimals\n",
    "# isdigit()         Returns True if all characters in the string are digits\n",
    "# isidentifier()    Returns True if the string is an identifier\n",
    "# islower()         Returns True if all characters in the string are lower case\n",
    "# isnumeric()       Returns True if all characters in the string are numeric\n",
    "# isprintable()     Returns True if all characters in the string are printable\n",
    "# isspace()         Returns True if all characters in the string are whitespaces\n",
    "# istitle()         Returns True if the string follows the rules of a title\n",
    "# isupper()         Returns True if all characters in the string are upper case\n",
    "# join()            Joins the elements of an iterable to the end of the string\n",
    "# ljust()           Returns a left justified version of the string\n",
    "# lower()           Converts a string into lower case\n",
    "# lstrip()          Returns a left trim version of the string\n",
    "# maketrans()       Returns a translation table to be used in translations\n",
    "# partition()       Returns a tuple where the string is parted into three parts\n",
    "# replace()         Returns a string where a specified value is replaced with a specified value\n",
    "# rfind()           Searches the string for a specified value and returns the last position of where it was found\n",
    "# rindex()          Searches the string for a specified value and returns the last position of where it was found\n",
    "# rjust()           Returns a right justified version of the string\n",
    "# rpartition()      Returns a tuple where the string is parted into three parts\n",
    "# rsplit()          Splits the string at the specified separator, and returns a list\n",
    "# rstrip()          Returns a right trim version of the string\n",
    "# split()           Splits the string at the specified separator, and returns a list\n",
    "# splitlines()      Splits the string at line breaks and returns a list\n",
    "# startswith()      Returns true if the string starts with the specified value\n",
    "# strip()           Returns a trimmed version of the string\n",
    "# swapcase()        Swaps cases, lower case becomes upper case and vice versa\n",
    "# title()           Converts the first character of each word to upper case\n",
    "# translate()       Returns a translated string\n",
    "# upper()           Converts a string into upper case\n",
    "# zfill()           Fills the string with a specified number of 0 values at the beginning"
   ]
  },
  {
   "cell_type": "code",
   "execution_count": null,
   "metadata": {},
   "outputs": [],
   "source": []
  },
  {
   "cell_type": "code",
   "execution_count": null,
   "metadata": {},
   "outputs": [],
   "source": []
  },
  {
   "cell_type": "code",
   "execution_count": null,
   "metadata": {},
   "outputs": [],
   "source": []
  }
 ],
 "metadata": {
  "kernelspec": {
   "display_name": "Python 3",
   "language": "python",
   "name": "python3"
  },
  "language_info": {
   "codemirror_mode": {
    "name": "ipython",
    "version": 3
   },
   "file_extension": ".py",
   "mimetype": "text/x-python",
   "name": "python",
   "nbconvert_exporter": "python",
   "pygments_lexer": "ipython3",
   "version": "3.8.3"
  }
 },
 "nbformat": 4,
 "nbformat_minor": 4
}
